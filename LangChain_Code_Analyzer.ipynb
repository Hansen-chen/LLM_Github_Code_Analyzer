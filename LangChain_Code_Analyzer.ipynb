{
 "cells": [
  {
   "cell_type": "markdown",
   "metadata": {},
   "source": [
    "# Analysis of source code in Github Repository with LangChain, GPT4 and Deep Lake\n",
    "In this tutorial, we are going to use Langchain + Deep Lake with GPT4 to analyze the code base of GPTeam\n",
    "."
   ]
  },
  {
   "cell_type": "code",
   "execution_count": 5,
   "metadata": {
    "ExecuteTime": {
     "end_time": "2023-06-04T11:30:55.922764Z",
     "start_time": "2023-06-04T11:30:47.128021Z"
    }
   },
   "outputs": [
    {
     "name": "stdout",
     "output_type": "stream",
     "text": [
      "Requirement already up-to-date: langchain in /Library/Frameworks/Python.framework/Versions/3.8/lib/python3.8/site-packages (0.0.189)\r\n",
      "Requirement already up-to-date: deeplake in /Library/Frameworks/Python.framework/Versions/3.8/lib/python3.8/site-packages (3.5.4)\r\n",
      "Requirement already up-to-date: openai in /Library/Frameworks/Python.framework/Versions/3.8/lib/python3.8/site-packages (0.27.7)\r\n",
      "Requirement already up-to-date: tiktoken in /Library/Frameworks/Python.framework/Versions/3.8/lib/python3.8/site-packages (0.4.0)\r\n",
      "Requirement already satisfied, skipping upgrade: requests<3,>=2 in /Library/Frameworks/Python.framework/Versions/3.8/lib/python3.8/site-packages (from langchain) (2.28.2)\r\n",
      "Requirement already satisfied, skipping upgrade: pydantic<2,>=1 in /Library/Frameworks/Python.framework/Versions/3.8/lib/python3.8/site-packages (from langchain) (1.10.8)\r\n",
      "Requirement already satisfied, skipping upgrade: aiohttp<4.0.0,>=3.8.3 in /Library/Frameworks/Python.framework/Versions/3.8/lib/python3.8/site-packages (from langchain) (3.8.4)\r\n",
      "Requirement already satisfied, skipping upgrade: async-timeout<5.0.0,>=4.0.0; python_version < \"3.11\" in /Library/Frameworks/Python.framework/Versions/3.8/lib/python3.8/site-packages (from langchain) (4.0.2)\r\n",
      "Requirement already satisfied, skipping upgrade: numpy<2,>=1 in /Library/Frameworks/Python.framework/Versions/3.8/lib/python3.8/site-packages (from langchain) (1.24.2)\r\n",
      "Requirement already satisfied, skipping upgrade: tenacity<9.0.0,>=8.1.0 in /Library/Frameworks/Python.framework/Versions/3.8/lib/python3.8/site-packages (from langchain) (8.2.2)\r\n",
      "Requirement already satisfied, skipping upgrade: numexpr<3.0.0,>=2.8.4 in /Library/Frameworks/Python.framework/Versions/3.8/lib/python3.8/site-packages (from langchain) (2.8.4)\r\n",
      "Requirement already satisfied, skipping upgrade: PyYAML>=5.4.1 in /Library/Frameworks/Python.framework/Versions/3.8/lib/python3.8/site-packages (from langchain) (6.0)\r\n",
      "Requirement already satisfied, skipping upgrade: dataclasses-json<0.6.0,>=0.5.7 in /Library/Frameworks/Python.framework/Versions/3.8/lib/python3.8/site-packages (from langchain) (0.5.7)\r\n",
      "Requirement already satisfied, skipping upgrade: openapi-schema-pydantic<2.0,>=1.2 in /Library/Frameworks/Python.framework/Versions/3.8/lib/python3.8/site-packages (from langchain) (1.2.4)\r\n",
      "Requirement already satisfied, skipping upgrade: SQLAlchemy<3,>=1.4 in /Library/Frameworks/Python.framework/Versions/3.8/lib/python3.8/site-packages (from langchain) (2.0.15)\r\n",
      "Requirement already satisfied, skipping upgrade: pillow in /Library/Frameworks/Python.framework/Versions/3.8/lib/python3.8/site-packages (from deeplake) (9.5.0)\r\n",
      "Requirement already satisfied, skipping upgrade: boto3 in /Library/Frameworks/Python.framework/Versions/3.8/lib/python3.8/site-packages (from deeplake) (1.26.146)\r\n",
      "Requirement already satisfied, skipping upgrade: click in /Library/Frameworks/Python.framework/Versions/3.8/lib/python3.8/site-packages (from deeplake) (8.1.3)\r\n",
      "Requirement already satisfied, skipping upgrade: pathos in /Library/Frameworks/Python.framework/Versions/3.8/lib/python3.8/site-packages (from deeplake) (0.3.0)\r\n",
      "Requirement already satisfied, skipping upgrade: humbug>=0.3.1 in /Library/Frameworks/Python.framework/Versions/3.8/lib/python3.8/site-packages (from deeplake) (0.3.1)\r\n",
      "Requirement already satisfied, skipping upgrade: tqdm in /Library/Frameworks/Python.framework/Versions/3.8/lib/python3.8/site-packages (from deeplake) (4.65.0)\r\n",
      "Requirement already satisfied, skipping upgrade: numcodecs in /Library/Frameworks/Python.framework/Versions/3.8/lib/python3.8/site-packages (from deeplake) (0.11.0)\r\n",
      "Requirement already satisfied, skipping upgrade: pyjwt in /Library/Frameworks/Python.framework/Versions/3.8/lib/python3.8/site-packages (from deeplake) (2.7.0)\r\n",
      "Requirement already satisfied, skipping upgrade: aioboto3>=10.4.0 in /Library/Frameworks/Python.framework/Versions/3.8/lib/python3.8/site-packages (from deeplake) (11.2.0)\r\n",
      "Requirement already satisfied, skipping upgrade: nest_asyncio in /Library/Frameworks/Python.framework/Versions/3.8/lib/python3.8/site-packages (from deeplake) (1.5.6)\r\n",
      "Requirement already satisfied, skipping upgrade: regex>=2022.1.18 in /Library/Frameworks/Python.framework/Versions/3.8/lib/python3.8/site-packages (from tiktoken) (2023.5.5)\r\n",
      "Requirement already satisfied, skipping upgrade: certifi>=2017.4.17 in /Library/Frameworks/Python.framework/Versions/3.8/lib/python3.8/site-packages (from requests<3,>=2->langchain) (2022.12.7)\r\n",
      "Requirement already satisfied, skipping upgrade: urllib3<1.27,>=1.21.1 in /Library/Frameworks/Python.framework/Versions/3.8/lib/python3.8/site-packages (from requests<3,>=2->langchain) (1.26.15)\r\n",
      "Requirement already satisfied, skipping upgrade: idna<4,>=2.5 in /Library/Frameworks/Python.framework/Versions/3.8/lib/python3.8/site-packages (from requests<3,>=2->langchain) (3.4)\r\n",
      "Requirement already satisfied, skipping upgrade: charset-normalizer<4,>=2 in /Library/Frameworks/Python.framework/Versions/3.8/lib/python3.8/site-packages (from requests<3,>=2->langchain) (3.1.0)\r\n",
      "Requirement already satisfied, skipping upgrade: typing-extensions>=4.2.0 in /Library/Frameworks/Python.framework/Versions/3.8/lib/python3.8/site-packages (from pydantic<2,>=1->langchain) (4.5.0)\r\n",
      "Requirement already satisfied, skipping upgrade: multidict<7.0,>=4.5 in /Library/Frameworks/Python.framework/Versions/3.8/lib/python3.8/site-packages (from aiohttp<4.0.0,>=3.8.3->langchain) (6.0.4)\r\n",
      "Requirement already satisfied, skipping upgrade: aiosignal>=1.1.2 in /Library/Frameworks/Python.framework/Versions/3.8/lib/python3.8/site-packages (from aiohttp<4.0.0,>=3.8.3->langchain) (1.3.1)\r\n",
      "Requirement already satisfied, skipping upgrade: frozenlist>=1.1.1 in /Library/Frameworks/Python.framework/Versions/3.8/lib/python3.8/site-packages (from aiohttp<4.0.0,>=3.8.3->langchain) (1.3.3)\r\n",
      "Requirement already satisfied, skipping upgrade: yarl<2.0,>=1.0 in /Library/Frameworks/Python.framework/Versions/3.8/lib/python3.8/site-packages (from aiohttp<4.0.0,>=3.8.3->langchain) (1.9.2)\r\n",
      "Requirement already satisfied, skipping upgrade: attrs>=17.3.0 in /Library/Frameworks/Python.framework/Versions/3.8/lib/python3.8/site-packages (from aiohttp<4.0.0,>=3.8.3->langchain) (22.2.0)\r\n",
      "Requirement already satisfied, skipping upgrade: marshmallow-enum<2.0.0,>=1.5.1 in /Library/Frameworks/Python.framework/Versions/3.8/lib/python3.8/site-packages (from dataclasses-json<0.6.0,>=0.5.7->langchain) (1.5.1)\r\n",
      "Requirement already satisfied, skipping upgrade: marshmallow<4.0.0,>=3.3.0 in /Library/Frameworks/Python.framework/Versions/3.8/lib/python3.8/site-packages (from dataclasses-json<0.6.0,>=0.5.7->langchain) (3.19.0)\r\n",
      "Requirement already satisfied, skipping upgrade: typing-inspect>=0.4.0 in /Library/Frameworks/Python.framework/Versions/3.8/lib/python3.8/site-packages (from dataclasses-json<0.6.0,>=0.5.7->langchain) (0.9.0)\r\n",
      "Requirement already satisfied, skipping upgrade: greenlet!=0.4.17; platform_machine == \"aarch64\" or (platform_machine == \"ppc64le\" or (platform_machine == \"x86_64\" or (platform_machine == \"amd64\" or (platform_machine == \"AMD64\" or (platform_machine == \"win32\" or platform_machine == \"WIN32\"))))) in /Library/Frameworks/Python.framework/Versions/3.8/lib/python3.8/site-packages (from SQLAlchemy<3,>=1.4->langchain) (2.0.2)\r\n",
      "Requirement already satisfied, skipping upgrade: jmespath<2.0.0,>=0.7.1 in /Library/Frameworks/Python.framework/Versions/3.8/lib/python3.8/site-packages (from boto3->deeplake) (1.0.1)\r\n",
      "Requirement already satisfied, skipping upgrade: s3transfer<0.7.0,>=0.6.0 in /Library/Frameworks/Python.framework/Versions/3.8/lib/python3.8/site-packages (from boto3->deeplake) (0.6.1)\r\n",
      "Requirement already satisfied, skipping upgrade: botocore<1.30.0,>=1.29.146 in /Library/Frameworks/Python.framework/Versions/3.8/lib/python3.8/site-packages (from boto3->deeplake) (1.29.146)\r\n",
      "Requirement already satisfied, skipping upgrade: multiprocess>=0.70.14 in /Library/Frameworks/Python.framework/Versions/3.8/lib/python3.8/site-packages (from pathos->deeplake) (0.70.14)\r\n",
      "Requirement already satisfied, skipping upgrade: dill>=0.3.6 in /Library/Frameworks/Python.framework/Versions/3.8/lib/python3.8/site-packages (from pathos->deeplake) (0.3.6)\r\n",
      "Requirement already satisfied, skipping upgrade: ppft>=1.7.6.6 in /Library/Frameworks/Python.framework/Versions/3.8/lib/python3.8/site-packages (from pathos->deeplake) (1.7.6.6)\r\n",
      "Requirement already satisfied, skipping upgrade: pox>=0.3.2 in /Library/Frameworks/Python.framework/Versions/3.8/lib/python3.8/site-packages (from pathos->deeplake) (0.3.2)\r\n",
      "Requirement already satisfied, skipping upgrade: entrypoints in /Library/Frameworks/Python.framework/Versions/3.8/lib/python3.8/site-packages (from numcodecs->deeplake) (0.4)\r\n",
      "Requirement already satisfied, skipping upgrade: aiobotocore[boto3]==2.5.0 in /Library/Frameworks/Python.framework/Versions/3.8/lib/python3.8/site-packages (from aioboto3>=10.4.0->deeplake) (2.5.0)\r\n",
      "Requirement already satisfied, skipping upgrade: packaging>=17.0 in /Library/Frameworks/Python.framework/Versions/3.8/lib/python3.8/site-packages (from marshmallow<4.0.0,>=3.3.0->dataclasses-json<0.6.0,>=0.5.7->langchain) (23.0)\r\n",
      "Requirement already satisfied, skipping upgrade: mypy-extensions>=0.3.0 in /Library/Frameworks/Python.framework/Versions/3.8/lib/python3.8/site-packages (from typing-inspect>=0.4.0->dataclasses-json<0.6.0,>=0.5.7->langchain) (1.0.0)\r\n",
      "Requirement already satisfied, skipping upgrade: python-dateutil<3.0.0,>=2.1 in /Library/Frameworks/Python.framework/Versions/3.8/lib/python3.8/site-packages (from botocore<1.30.0,>=1.29.146->boto3->deeplake) (2.8.2)\r\n",
      "Requirement already satisfied, skipping upgrade: aioitertools>=0.5.1 in /Library/Frameworks/Python.framework/Versions/3.8/lib/python3.8/site-packages (from aiobotocore[boto3]==2.5.0->aioboto3>=10.4.0->deeplake) (0.11.0)\r\n",
      "Requirement already satisfied, skipping upgrade: wrapt>=1.10.10 in /Library/Frameworks/Python.framework/Versions/3.8/lib/python3.8/site-packages (from aiobotocore[boto3]==2.5.0->aioboto3>=10.4.0->deeplake) (1.15.0)\r\n",
      "Requirement already satisfied, skipping upgrade: six>=1.5 in /Library/Frameworks/Python.framework/Versions/3.8/lib/python3.8/site-packages (from python-dateutil<3.0.0,>=2.1->botocore<1.30.0,>=1.29.146->boto3->deeplake) (1.16.0)\r\n",
      "\u001B[33mWARNING: You are using pip version 19.2.3, however version 23.1.2 is available.\r\n",
      "You should consider upgrading via the 'pip install --upgrade pip' command.\u001B[0m\r\n"
     ]
    }
   ],
   "source": [
    "!python3 -m pip install --upgrade langchain deeplake openai tiktoken"
   ]
  },
  {
   "attachments": {},
   "cell_type": "markdown",
   "metadata": {},
   "source": [
    "Define OpenAI embeddings, Deep Lake multi-modal vector store api and authenticate. For full documentation of Deep Lake please follow [docs](https://docs.activeloop.ai/) and [API reference](https://docs.deeplake.ai/en/latest/).\n",
    "\n",
    "Authenticate into Deep Lake if you want to create your own dataset and publish it. You can get an API key from the [platform](https://app.activeloop.ai)"
   ]
  },
  {
   "cell_type": "code",
   "execution_count": 6,
   "metadata": {
    "ExecuteTime": {
     "end_time": "2023-06-04T11:39:15.041295Z",
     "start_time": "2023-06-04T11:39:05.392591Z"
    }
   },
   "outputs": [],
   "source": [
    "import os\n",
    "\n",
    "from langchain.embeddings.openai import OpenAIEmbeddings\n",
    "from langchain.vectorstores import DeepLake\n",
    "\n",
    "os.environ['OPENAI_API_KEY'] = ''\n",
    "os.environ['ACTIVELOOP_TOKEN'] = ''"
   ]
  },
  {
   "cell_type": "code",
   "execution_count": 7,
   "metadata": {
    "ExecuteTime": {
     "end_time": "2023-06-04T11:39:43.660225Z",
     "start_time": "2023-06-04T11:39:43.628638Z"
    }
   },
   "outputs": [],
   "source": [
    "embeddings = OpenAIEmbeddings(disallowed_special=())"
   ]
  },
  {
   "attachments": {},
   "cell_type": "markdown",
   "metadata": {},
   "source": [
    "disallowed_special=() is required to avoid `Exception: 'utf-8' codec can't decode byte 0xff in position 0: invalid start byte` from tiktoken for some repositories"
   ]
  },
  {
   "cell_type": "markdown",
   "metadata": {},
   "source": [
    "### 1. Index the code base (optional)\n",
    "You can directly skip this part and directly jump into using already indexed dataset. To begin with, first we will clone the repository, then parse and chunk the code base and use OpenAI indexing."
   ]
  },
  {
   "cell_type": "code",
   "execution_count": 8,
   "metadata": {
    "ExecuteTime": {
     "end_time": "2023-06-04T11:39:52.224714Z",
     "start_time": "2023-06-04T11:39:49.578189Z"
    }
   },
   "outputs": [
    {
     "name": "stdout",
     "output_type": "stream",
     "text": [
      "Cloning into 'GPTeam'...\r\n",
      "remote: Enumerating objects: 3047, done.\u001B[K\r\n",
      "remote: Counting objects: 100% (435/435), done.\u001B[K\r\n",
      "remote: Compressing objects: 100% (155/155), done.\u001B[K\r\n",
      "remote: Total 3047 (delta 288), reused 384 (delta 251), pack-reused 2612\u001B[K\r\n",
      "Receiving objects: 100% (3047/3047), 1.78 MiB | 2.33 MiB/s, done.\r\n",
      "Resolving deltas: 100% (2297/2297), done.\r\n"
     ]
    }
   ],
   "source": [
    "!git clone https://github.com/101dotxyz/GPTeam # replace any repository of your choice"
   ]
  },
  {
   "cell_type": "markdown",
   "metadata": {},
   "source": [
    "Load all files inside the repository"
   ]
  },
  {
   "cell_type": "code",
   "execution_count": 9,
   "metadata": {
    "ExecuteTime": {
     "end_time": "2023-06-04T11:40:15.497180Z",
     "start_time": "2023-06-04T11:40:15.343749Z"
    }
   },
   "outputs": [],
   "source": [
    "import os\n",
    "from langchain.document_loaders import TextLoader\n",
    "\n",
    "root_dir = './GPTeam'\n",
    "docs = []\n",
    "for dirpath, dirnames, filenames in os.walk(root_dir):\n",
    "    for file in filenames:\n",
    "        try: \n",
    "            loader = TextLoader(os.path.join(dirpath, file), encoding='utf-8')\n",
    "            docs.extend(loader.load_and_split())\n",
    "        except Exception as e: \n",
    "            pass"
   ]
  },
  {
   "cell_type": "markdown",
   "metadata": {},
   "source": [
    "Then, chunk the files"
   ]
  },
  {
   "cell_type": "code",
   "execution_count": 10,
   "metadata": {
    "ExecuteTime": {
     "end_time": "2023-06-04T11:40:19.740772Z",
     "start_time": "2023-06-04T11:40:19.672408Z"
    }
   },
   "outputs": [
    {
     "name": "stderr",
     "output_type": "stream",
     "text": [
      "Created a chunk of size 3166, which is longer than the specified 1000\n",
      "Created a chunk of size 1020, which is longer than the specified 1000\n",
      "Created a chunk of size 1540, which is longer than the specified 1000\n",
      "Created a chunk of size 1884, which is longer than the specified 1000\n",
      "Created a chunk of size 1818, which is longer than the specified 1000\n",
      "Created a chunk of size 1376, which is longer than the specified 1000\n",
      "Created a chunk of size 2345, which is longer than the specified 1000\n",
      "Created a chunk of size 1190, which is longer than the specified 1000\n",
      "Created a chunk of size 1004, which is longer than the specified 1000\n",
      "Created a chunk of size 1095, which is longer than the specified 1000\n"
     ]
    }
   ],
   "source": [
    "from langchain.text_splitter import CharacterTextSplitter\n",
    "\n",
    "text_splitter = CharacterTextSplitter(chunk_size=1000, chunk_overlap=0)\n",
    "texts = text_splitter.split_documents(docs)"
   ]
  },
  {
   "cell_type": "markdown",
   "metadata": {},
   "source": [
    "Execute the indexing. This will take about ~4 mins to compute embeddings and upload to Activeloop. You can then publish the dataset to be public."
   ]
  },
  {
   "cell_type": "code",
   "execution_count": 11,
   "metadata": {
    "ExecuteTime": {
     "end_time": "2023-06-04T11:42:46.188426Z",
     "start_time": "2023-06-04T11:41:16.665600Z"
    }
   },
   "outputs": [
    {
     "name": "stdout",
     "output_type": "stream",
     "text": [
      "Your Deep Lake dataset has been successfully created!\n"
     ]
    },
    {
     "name": "stderr",
     "output_type": "stream",
     "text": [
      "-"
     ]
    },
    {
     "name": "stdout",
     "output_type": "stream",
     "text": [
      "This dataset can be visualized in Jupyter Notebook by ds.visualize() or at https://app.activeloop.ai/hansenchen/GPTeam\n"
     ]
    },
    {
     "name": "stderr",
     "output_type": "stream",
     "text": [
      " \r"
     ]
    },
    {
     "name": "stdout",
     "output_type": "stream",
     "text": [
      "hub://hansenchen/GPTeam loaded successfully.\n"
     ]
    },
    {
     "name": "stderr",
     "output_type": "stream",
     "text": [
      "Evaluating ingest: 100%|██████████| 1/1 [00:42<00:00\n",
      " \r"
     ]
    },
    {
     "name": "stdout",
     "output_type": "stream",
     "text": [
      "Dataset(path='hub://hansenchen/GPTeam', tensors=['embedding', 'ids', 'metadata', 'text'])\n",
      "\n",
      "  tensor     htype      shape      dtype  compression\n",
      "  -------   -------    -------    -------  ------- \n",
      " embedding  generic  (451, 1536)  float32   None   \n",
      "    ids      text     (451, 1)      str     None   \n",
      " metadata    json     (451, 1)      str     None   \n",
      "   text      text     (451, 1)      str     None   \n"
     ]
    },
    {
     "data": {
      "text/plain": "['c76b9fe6-02cc-11ee-9446-8c85907a416d',\n 'c76ba20c-02cc-11ee-9446-8c85907a416d',\n 'c76ba2de-02cc-11ee-9446-8c85907a416d',\n 'c76ba32e-02cc-11ee-9446-8c85907a416d',\n 'c76ba360-02cc-11ee-9446-8c85907a416d',\n 'c76ba392-02cc-11ee-9446-8c85907a416d',\n 'c76ba3c4-02cc-11ee-9446-8c85907a416d',\n 'c76ba3f6-02cc-11ee-9446-8c85907a416d',\n 'c76ba428-02cc-11ee-9446-8c85907a416d',\n 'c76ba45a-02cc-11ee-9446-8c85907a416d',\n 'c76ba482-02cc-11ee-9446-8c85907a416d',\n 'c76ba4b4-02cc-11ee-9446-8c85907a416d',\n 'c76ba4e6-02cc-11ee-9446-8c85907a416d',\n 'c76ba50e-02cc-11ee-9446-8c85907a416d',\n 'c76ba540-02cc-11ee-9446-8c85907a416d',\n 'c76ba572-02cc-11ee-9446-8c85907a416d',\n 'c76ba5a4-02cc-11ee-9446-8c85907a416d',\n 'c76ba5d6-02cc-11ee-9446-8c85907a416d',\n 'c76ba5fe-02cc-11ee-9446-8c85907a416d',\n 'c76ba630-02cc-11ee-9446-8c85907a416d',\n 'c76ba662-02cc-11ee-9446-8c85907a416d',\n 'c76ba68a-02cc-11ee-9446-8c85907a416d',\n 'c76ba6bc-02cc-11ee-9446-8c85907a416d',\n 'c76ba6ee-02cc-11ee-9446-8c85907a416d',\n 'c76ba720-02cc-11ee-9446-8c85907a416d',\n 'c76ba752-02cc-11ee-9446-8c85907a416d',\n 'c76ba77a-02cc-11ee-9446-8c85907a416d',\n 'c76ba8ce-02cc-11ee-9446-8c85907a416d',\n 'c76ba928-02cc-11ee-9446-8c85907a416d',\n 'c76ba964-02cc-11ee-9446-8c85907a416d',\n 'c76ba9a0-02cc-11ee-9446-8c85907a416d',\n 'c76baaf4-02cc-11ee-9446-8c85907a416d',\n 'c76bab6c-02cc-11ee-9446-8c85907a416d',\n 'c76bab9e-02cc-11ee-9446-8c85907a416d',\n 'c76babd0-02cc-11ee-9446-8c85907a416d',\n 'c76babf8-02cc-11ee-9446-8c85907a416d',\n 'c76bac2a-02cc-11ee-9446-8c85907a416d',\n 'c76bac5c-02cc-11ee-9446-8c85907a416d',\n 'c76bacb6-02cc-11ee-9446-8c85907a416d',\n 'c76bacfc-02cc-11ee-9446-8c85907a416d',\n 'c76bad38-02cc-11ee-9446-8c85907a416d',\n 'c76bad60-02cc-11ee-9446-8c85907a416d',\n 'c76bad92-02cc-11ee-9446-8c85907a416d',\n 'c76badc4-02cc-11ee-9446-8c85907a416d',\n 'c76badf6-02cc-11ee-9446-8c85907a416d',\n 'c76bae28-02cc-11ee-9446-8c85907a416d',\n 'c76bae50-02cc-11ee-9446-8c85907a416d',\n 'c76bae82-02cc-11ee-9446-8c85907a416d',\n 'c76baeb4-02cc-11ee-9446-8c85907a416d',\n 'c76baee6-02cc-11ee-9446-8c85907a416d',\n 'c76baf18-02cc-11ee-9446-8c85907a416d',\n 'c76baf4a-02cc-11ee-9446-8c85907a416d',\n 'c76baf7c-02cc-11ee-9446-8c85907a416d',\n 'c76bafa4-02cc-11ee-9446-8c85907a416d',\n 'c76bafd6-02cc-11ee-9446-8c85907a416d',\n 'c76bb008-02cc-11ee-9446-8c85907a416d',\n 'c76bb030-02cc-11ee-9446-8c85907a416d',\n 'c76bb062-02cc-11ee-9446-8c85907a416d',\n 'c76bb094-02cc-11ee-9446-8c85907a416d',\n 'c76bb0d0-02cc-11ee-9446-8c85907a416d',\n 'c76bb102-02cc-11ee-9446-8c85907a416d',\n 'c76bb134-02cc-11ee-9446-8c85907a416d',\n 'c76bb166-02cc-11ee-9446-8c85907a416d',\n 'c76bb1c0-02cc-11ee-9446-8c85907a416d',\n 'c76bb210-02cc-11ee-9446-8c85907a416d',\n 'c76bb260-02cc-11ee-9446-8c85907a416d',\n 'c76bb2b0-02cc-11ee-9446-8c85907a416d',\n 'c76bb30a-02cc-11ee-9446-8c85907a416d',\n 'c76bb404-02cc-11ee-9446-8c85907a416d',\n 'c76bb486-02cc-11ee-9446-8c85907a416d',\n 'c76bb4b8-02cc-11ee-9446-8c85907a416d',\n 'c76bb4ea-02cc-11ee-9446-8c85907a416d',\n 'c76bb51c-02cc-11ee-9446-8c85907a416d',\n 'c76bb562-02cc-11ee-9446-8c85907a416d',\n 'c76bb594-02cc-11ee-9446-8c85907a416d',\n 'c76bb5c6-02cc-11ee-9446-8c85907a416d',\n 'c76bb5ee-02cc-11ee-9446-8c85907a416d',\n 'c76bb620-02cc-11ee-9446-8c85907a416d',\n 'c76bb652-02cc-11ee-9446-8c85907a416d',\n 'c76bb684-02cc-11ee-9446-8c85907a416d',\n 'c76bb6ac-02cc-11ee-9446-8c85907a416d',\n 'c76bb6de-02cc-11ee-9446-8c85907a416d',\n 'c76bb710-02cc-11ee-9446-8c85907a416d',\n 'c76bb738-02cc-11ee-9446-8c85907a416d',\n 'c76bb76a-02cc-11ee-9446-8c85907a416d',\n 'c76bb79c-02cc-11ee-9446-8c85907a416d',\n 'c76bb7c4-02cc-11ee-9446-8c85907a416d',\n 'c76bb7f6-02cc-11ee-9446-8c85907a416d',\n 'c76bb828-02cc-11ee-9446-8c85907a416d',\n 'c76bb85a-02cc-11ee-9446-8c85907a416d',\n 'c76bb88c-02cc-11ee-9446-8c85907a416d',\n 'c76bb8be-02cc-11ee-9446-8c85907a416d',\n 'c76bb8f0-02cc-11ee-9446-8c85907a416d',\n 'c76bb918-02cc-11ee-9446-8c85907a416d',\n 'c76bb94a-02cc-11ee-9446-8c85907a416d',\n 'c76bb97c-02cc-11ee-9446-8c85907a416d',\n 'c76bb9a4-02cc-11ee-9446-8c85907a416d',\n 'c76bb9d6-02cc-11ee-9446-8c85907a416d',\n 'c76bba08-02cc-11ee-9446-8c85907a416d',\n 'c76bba30-02cc-11ee-9446-8c85907a416d',\n 'c76bba62-02cc-11ee-9446-8c85907a416d',\n 'c76bba94-02cc-11ee-9446-8c85907a416d',\n 'c76bbabc-02cc-11ee-9446-8c85907a416d',\n 'c76bbaee-02cc-11ee-9446-8c85907a416d',\n 'c76bbb20-02cc-11ee-9446-8c85907a416d',\n 'c76bbb48-02cc-11ee-9446-8c85907a416d',\n 'c76bbb7a-02cc-11ee-9446-8c85907a416d',\n 'c76bbbb6-02cc-11ee-9446-8c85907a416d',\n 'c76bbbe8-02cc-11ee-9446-8c85907a416d',\n 'c76bbc1a-02cc-11ee-9446-8c85907a416d',\n 'c76bbc42-02cc-11ee-9446-8c85907a416d',\n 'c76bbc74-02cc-11ee-9446-8c85907a416d',\n 'c76bbca6-02cc-11ee-9446-8c85907a416d',\n 'c76bbcce-02cc-11ee-9446-8c85907a416d',\n 'c76bbd00-02cc-11ee-9446-8c85907a416d',\n 'c76bbd32-02cc-11ee-9446-8c85907a416d',\n 'c76bbd64-02cc-11ee-9446-8c85907a416d',\n 'c76bbd8c-02cc-11ee-9446-8c85907a416d',\n 'c76bbdbe-02cc-11ee-9446-8c85907a416d',\n 'c76bbdf0-02cc-11ee-9446-8c85907a416d',\n 'c76bbe22-02cc-11ee-9446-8c85907a416d',\n 'c76bbe4a-02cc-11ee-9446-8c85907a416d',\n 'c76bbe7c-02cc-11ee-9446-8c85907a416d',\n 'c76bbeae-02cc-11ee-9446-8c85907a416d',\n 'c76bbed6-02cc-11ee-9446-8c85907a416d',\n 'c76bbf08-02cc-11ee-9446-8c85907a416d',\n 'c76bbf3a-02cc-11ee-9446-8c85907a416d',\n 'c76bbf6c-02cc-11ee-9446-8c85907a416d',\n 'c76bbf9e-02cc-11ee-9446-8c85907a416d',\n 'c76bbfd0-02cc-11ee-9446-8c85907a416d',\n 'c76bc002-02cc-11ee-9446-8c85907a416d',\n 'c76bc034-02cc-11ee-9446-8c85907a416d',\n 'c76bc05c-02cc-11ee-9446-8c85907a416d',\n 'c76bc08e-02cc-11ee-9446-8c85907a416d',\n 'c76bc0c0-02cc-11ee-9446-8c85907a416d',\n 'c76bc0e8-02cc-11ee-9446-8c85907a416d',\n 'c76bc11a-02cc-11ee-9446-8c85907a416d',\n 'c76bc14c-02cc-11ee-9446-8c85907a416d',\n 'c76bc17e-02cc-11ee-9446-8c85907a416d',\n 'c76bc1a6-02cc-11ee-9446-8c85907a416d',\n 'c76bc1d8-02cc-11ee-9446-8c85907a416d',\n 'c76bc20a-02cc-11ee-9446-8c85907a416d',\n 'c76bc232-02cc-11ee-9446-8c85907a416d',\n 'c76bc264-02cc-11ee-9446-8c85907a416d',\n 'c76bc296-02cc-11ee-9446-8c85907a416d',\n 'c76bc2c8-02cc-11ee-9446-8c85907a416d',\n 'c76bc2f0-02cc-11ee-9446-8c85907a416d',\n 'c76bc322-02cc-11ee-9446-8c85907a416d',\n 'c76bc354-02cc-11ee-9446-8c85907a416d',\n 'c76bc386-02cc-11ee-9446-8c85907a416d',\n 'c76bc3fe-02cc-11ee-9446-8c85907a416d',\n 'c76bc430-02cc-11ee-9446-8c85907a416d',\n 'c76bc462-02cc-11ee-9446-8c85907a416d',\n 'c76bc494-02cc-11ee-9446-8c85907a416d',\n 'c76bc4bc-02cc-11ee-9446-8c85907a416d',\n 'c76bc4ee-02cc-11ee-9446-8c85907a416d',\n 'c76bc520-02cc-11ee-9446-8c85907a416d',\n 'c76bc548-02cc-11ee-9446-8c85907a416d',\n 'c76bc57a-02cc-11ee-9446-8c85907a416d',\n 'c76bc5ac-02cc-11ee-9446-8c85907a416d',\n 'c76bc5d4-02cc-11ee-9446-8c85907a416d',\n 'c76bc606-02cc-11ee-9446-8c85907a416d',\n 'c76bc638-02cc-11ee-9446-8c85907a416d',\n 'c76bc66a-02cc-11ee-9446-8c85907a416d',\n 'c76bc692-02cc-11ee-9446-8c85907a416d',\n 'c76bc6c4-02cc-11ee-9446-8c85907a416d',\n 'c76bc6f6-02cc-11ee-9446-8c85907a416d',\n 'c76bc71e-02cc-11ee-9446-8c85907a416d',\n 'c76bc750-02cc-11ee-9446-8c85907a416d',\n 'c76bc778-02cc-11ee-9446-8c85907a416d',\n 'c76bc7aa-02cc-11ee-9446-8c85907a416d',\n 'c76bc7dc-02cc-11ee-9446-8c85907a416d',\n 'c76bc804-02cc-11ee-9446-8c85907a416d',\n 'c76bc836-02cc-11ee-9446-8c85907a416d',\n 'c76bc872-02cc-11ee-9446-8c85907a416d',\n 'c76bc8a4-02cc-11ee-9446-8c85907a416d',\n 'c76bc8cc-02cc-11ee-9446-8c85907a416d',\n 'c76bc8fe-02cc-11ee-9446-8c85907a416d',\n 'c76bc930-02cc-11ee-9446-8c85907a416d',\n 'c76bc958-02cc-11ee-9446-8c85907a416d',\n 'c76bc98a-02cc-11ee-9446-8c85907a416d',\n 'c76bc9bc-02cc-11ee-9446-8c85907a416d',\n 'c76bc9ee-02cc-11ee-9446-8c85907a416d',\n 'c76bca16-02cc-11ee-9446-8c85907a416d',\n 'c76bca48-02cc-11ee-9446-8c85907a416d',\n 'c76bca70-02cc-11ee-9446-8c85907a416d',\n 'c76bcaa2-02cc-11ee-9446-8c85907a416d',\n 'c76bcad4-02cc-11ee-9446-8c85907a416d',\n 'c76bcafc-02cc-11ee-9446-8c85907a416d',\n 'c76bcb2e-02cc-11ee-9446-8c85907a416d',\n 'c76bcb60-02cc-11ee-9446-8c85907a416d',\n 'c76bcb88-02cc-11ee-9446-8c85907a416d',\n 'c76bcbd8-02cc-11ee-9446-8c85907a416d',\n 'c76bcc0a-02cc-11ee-9446-8c85907a416d',\n 'c76bcc3c-02cc-11ee-9446-8c85907a416d',\n 'c76bcc64-02cc-11ee-9446-8c85907a416d',\n 'c76bcc96-02cc-11ee-9446-8c85907a416d',\n 'c76bccc8-02cc-11ee-9446-8c85907a416d',\n 'c76bccfa-02cc-11ee-9446-8c85907a416d',\n 'c76bcd22-02cc-11ee-9446-8c85907a416d',\n 'c76bcd54-02cc-11ee-9446-8c85907a416d',\n 'c76bcd7c-02cc-11ee-9446-8c85907a416d',\n 'c76bcdae-02cc-11ee-9446-8c85907a416d',\n 'c76bcde0-02cc-11ee-9446-8c85907a416d',\n 'c76bce12-02cc-11ee-9446-8c85907a416d',\n 'c76bce3a-02cc-11ee-9446-8c85907a416d',\n 'c76bce6c-02cc-11ee-9446-8c85907a416d',\n 'c76bce9e-02cc-11ee-9446-8c85907a416d',\n 'c76bcec6-02cc-11ee-9446-8c85907a416d',\n 'c76bcef8-02cc-11ee-9446-8c85907a416d',\n 'c76bcf2a-02cc-11ee-9446-8c85907a416d',\n 'c76bcf52-02cc-11ee-9446-8c85907a416d',\n 'c76bcf84-02cc-11ee-9446-8c85907a416d',\n 'c76bcfb6-02cc-11ee-9446-8c85907a416d',\n 'c76bcfde-02cc-11ee-9446-8c85907a416d',\n 'c76bd010-02cc-11ee-9446-8c85907a416d',\n 'c76bd042-02cc-11ee-9446-8c85907a416d',\n 'c76bd06a-02cc-11ee-9446-8c85907a416d',\n 'c76bd09c-02cc-11ee-9446-8c85907a416d',\n 'c76bd0ce-02cc-11ee-9446-8c85907a416d',\n 'c76bd100-02cc-11ee-9446-8c85907a416d',\n 'c76bd128-02cc-11ee-9446-8c85907a416d',\n 'c76bd15a-02cc-11ee-9446-8c85907a416d',\n 'c76bd18c-02cc-11ee-9446-8c85907a416d',\n 'c76bd1b4-02cc-11ee-9446-8c85907a416d',\n 'c76bd1e6-02cc-11ee-9446-8c85907a416d',\n 'c76bd218-02cc-11ee-9446-8c85907a416d',\n 'c76bd240-02cc-11ee-9446-8c85907a416d',\n 'c76bd272-02cc-11ee-9446-8c85907a416d',\n 'c76bd2a4-02cc-11ee-9446-8c85907a416d',\n 'c76bd2cc-02cc-11ee-9446-8c85907a416d',\n 'c76bd2fe-02cc-11ee-9446-8c85907a416d',\n 'c76bd330-02cc-11ee-9446-8c85907a416d',\n 'c76bd362-02cc-11ee-9446-8c85907a416d',\n 'c76bd3a8-02cc-11ee-9446-8c85907a416d',\n 'c76bd3e4-02cc-11ee-9446-8c85907a416d',\n 'c76bd40c-02cc-11ee-9446-8c85907a416d',\n 'c76bd43e-02cc-11ee-9446-8c85907a416d',\n 'c76bd470-02cc-11ee-9446-8c85907a416d',\n 'c76bd498-02cc-11ee-9446-8c85907a416d',\n 'c76bd4ca-02cc-11ee-9446-8c85907a416d',\n 'c76bd4fc-02cc-11ee-9446-8c85907a416d',\n 'c76bd524-02cc-11ee-9446-8c85907a416d',\n 'c76bd556-02cc-11ee-9446-8c85907a416d',\n 'c76bd588-02cc-11ee-9446-8c85907a416d',\n 'c76bd5b0-02cc-11ee-9446-8c85907a416d',\n 'c76bd5e2-02cc-11ee-9446-8c85907a416d',\n 'c76bd60a-02cc-11ee-9446-8c85907a416d',\n 'c76bd63c-02cc-11ee-9446-8c85907a416d',\n 'c76bd66e-02cc-11ee-9446-8c85907a416d',\n 'c76bd696-02cc-11ee-9446-8c85907a416d',\n 'c76bd6c8-02cc-11ee-9446-8c85907a416d',\n 'c76bd6f0-02cc-11ee-9446-8c85907a416d',\n 'c76bd722-02cc-11ee-9446-8c85907a416d',\n 'c76bd754-02cc-11ee-9446-8c85907a416d',\n 'c76bd77c-02cc-11ee-9446-8c85907a416d',\n 'c76bd7ae-02cc-11ee-9446-8c85907a416d',\n 'c76bd7d6-02cc-11ee-9446-8c85907a416d',\n 'c76bd808-02cc-11ee-9446-8c85907a416d',\n 'c76bd83a-02cc-11ee-9446-8c85907a416d',\n 'c76bd862-02cc-11ee-9446-8c85907a416d',\n 'c76bd894-02cc-11ee-9446-8c85907a416d',\n 'c76bd8c6-02cc-11ee-9446-8c85907a416d',\n 'c76bd8ee-02cc-11ee-9446-8c85907a416d',\n 'c76bd920-02cc-11ee-9446-8c85907a416d',\n 'c76bd948-02cc-11ee-9446-8c85907a416d',\n 'c76bd97a-02cc-11ee-9446-8c85907a416d',\n 'c76bd9ac-02cc-11ee-9446-8c85907a416d',\n 'c76bd9d4-02cc-11ee-9446-8c85907a416d',\n 'c76bda06-02cc-11ee-9446-8c85907a416d',\n 'c76bda38-02cc-11ee-9446-8c85907a416d',\n 'c76bda60-02cc-11ee-9446-8c85907a416d',\n 'c76bda92-02cc-11ee-9446-8c85907a416d',\n 'c76bdac4-02cc-11ee-9446-8c85907a416d',\n 'c76bdaec-02cc-11ee-9446-8c85907a416d',\n 'c76bdb1e-02cc-11ee-9446-8c85907a416d',\n 'c76bdb6e-02cc-11ee-9446-8c85907a416d',\n 'c76bdba0-02cc-11ee-9446-8c85907a416d',\n 'c76bdbc8-02cc-11ee-9446-8c85907a416d',\n 'c76bdbfa-02cc-11ee-9446-8c85907a416d',\n 'c76bdc2c-02cc-11ee-9446-8c85907a416d',\n 'c76bdc54-02cc-11ee-9446-8c85907a416d',\n 'c76bdc86-02cc-11ee-9446-8c85907a416d',\n 'c76bdcae-02cc-11ee-9446-8c85907a416d',\n 'c76bdce0-02cc-11ee-9446-8c85907a416d',\n 'c76bdd12-02cc-11ee-9446-8c85907a416d',\n 'c76bdd3a-02cc-11ee-9446-8c85907a416d',\n 'c76bdd6c-02cc-11ee-9446-8c85907a416d',\n 'c76bdd9e-02cc-11ee-9446-8c85907a416d',\n 'c76bddc6-02cc-11ee-9446-8c85907a416d',\n 'c76bddf8-02cc-11ee-9446-8c85907a416d',\n 'c76bde20-02cc-11ee-9446-8c85907a416d',\n 'c76bde52-02cc-11ee-9446-8c85907a416d',\n 'c76bde84-02cc-11ee-9446-8c85907a416d',\n 'c76bdeac-02cc-11ee-9446-8c85907a416d',\n 'c76bdede-02cc-11ee-9446-8c85907a416d',\n 'c76bdf06-02cc-11ee-9446-8c85907a416d',\n 'c76bdf38-02cc-11ee-9446-8c85907a416d',\n 'c76bdf6a-02cc-11ee-9446-8c85907a416d',\n 'c76bdf92-02cc-11ee-9446-8c85907a416d',\n 'c76bdfc4-02cc-11ee-9446-8c85907a416d',\n 'c76bdfec-02cc-11ee-9446-8c85907a416d',\n 'c76be01e-02cc-11ee-9446-8c85907a416d',\n 'c76be050-02cc-11ee-9446-8c85907a416d',\n 'c76be078-02cc-11ee-9446-8c85907a416d',\n 'c76be0aa-02cc-11ee-9446-8c85907a416d',\n 'c76be1b8-02cc-11ee-9446-8c85907a416d',\n 'c76be2a8-02cc-11ee-9446-8c85907a416d',\n 'c76be38e-02cc-11ee-9446-8c85907a416d',\n 'c76be3fc-02cc-11ee-9446-8c85907a416d',\n 'c76be438-02cc-11ee-9446-8c85907a416d',\n 'c76be474-02cc-11ee-9446-8c85907a416d',\n 'c76be49c-02cc-11ee-9446-8c85907a416d',\n 'c76be4ce-02cc-11ee-9446-8c85907a416d',\n 'c76be500-02cc-11ee-9446-8c85907a416d',\n 'c76be532-02cc-11ee-9446-8c85907a416d',\n 'c76be55a-02cc-11ee-9446-8c85907a416d',\n 'c76be58c-02cc-11ee-9446-8c85907a416d',\n 'c76be5fa-02cc-11ee-9446-8c85907a416d',\n 'c76be62c-02cc-11ee-9446-8c85907a416d',\n 'c76be65e-02cc-11ee-9446-8c85907a416d',\n 'c76be690-02cc-11ee-9446-8c85907a416d',\n 'c76be6b8-02cc-11ee-9446-8c85907a416d',\n 'c76be6ea-02cc-11ee-9446-8c85907a416d',\n 'c76be71c-02cc-11ee-9446-8c85907a416d',\n 'c76be74e-02cc-11ee-9446-8c85907a416d',\n 'c76be776-02cc-11ee-9446-8c85907a416d',\n 'c76be7a8-02cc-11ee-9446-8c85907a416d',\n 'c76be7da-02cc-11ee-9446-8c85907a416d',\n 'c76be802-02cc-11ee-9446-8c85907a416d',\n 'c76be834-02cc-11ee-9446-8c85907a416d',\n 'c76be866-02cc-11ee-9446-8c85907a416d',\n 'c76be898-02cc-11ee-9446-8c85907a416d',\n 'c76be8c0-02cc-11ee-9446-8c85907a416d',\n 'c76be8f2-02cc-11ee-9446-8c85907a416d',\n 'c76be924-02cc-11ee-9446-8c85907a416d',\n 'c76be94c-02cc-11ee-9446-8c85907a416d',\n 'c76be97e-02cc-11ee-9446-8c85907a416d',\n 'c76be9b0-02cc-11ee-9446-8c85907a416d',\n 'c76be9d8-02cc-11ee-9446-8c85907a416d',\n 'c76bea0a-02cc-11ee-9446-8c85907a416d',\n 'c76bea3c-02cc-11ee-9446-8c85907a416d',\n 'c76bea64-02cc-11ee-9446-8c85907a416d',\n 'c76bea96-02cc-11ee-9446-8c85907a416d',\n 'c76beac8-02cc-11ee-9446-8c85907a416d',\n 'c76beaf0-02cc-11ee-9446-8c85907a416d',\n 'c76beb22-02cc-11ee-9446-8c85907a416d',\n 'c76beb54-02cc-11ee-9446-8c85907a416d',\n 'c76beb7c-02cc-11ee-9446-8c85907a416d',\n 'c76bebae-02cc-11ee-9446-8c85907a416d',\n 'c76bebe0-02cc-11ee-9446-8c85907a416d',\n 'c76bec08-02cc-11ee-9446-8c85907a416d',\n 'c76bec3a-02cc-11ee-9446-8c85907a416d',\n 'c76bec6c-02cc-11ee-9446-8c85907a416d',\n 'c76bec94-02cc-11ee-9446-8c85907a416d',\n 'c76becc6-02cc-11ee-9446-8c85907a416d',\n 'c76becf8-02cc-11ee-9446-8c85907a416d',\n 'c76bed2a-02cc-11ee-9446-8c85907a416d',\n 'c76bed5c-02cc-11ee-9446-8c85907a416d',\n 'c76bed84-02cc-11ee-9446-8c85907a416d',\n 'c76bedd4-02cc-11ee-9446-8c85907a416d',\n 'c76bee06-02cc-11ee-9446-8c85907a416d',\n 'c76bee38-02cc-11ee-9446-8c85907a416d',\n 'c76bee6a-02cc-11ee-9446-8c85907a416d',\n 'c76bee92-02cc-11ee-9446-8c85907a416d',\n 'c76beec4-02cc-11ee-9446-8c85907a416d',\n 'c76beef6-02cc-11ee-9446-8c85907a416d',\n 'c76bef1e-02cc-11ee-9446-8c85907a416d',\n 'c76bef50-02cc-11ee-9446-8c85907a416d',\n 'c76bef78-02cc-11ee-9446-8c85907a416d',\n 'c76befaa-02cc-11ee-9446-8c85907a416d',\n 'c76befdc-02cc-11ee-9446-8c85907a416d',\n 'c76bf004-02cc-11ee-9446-8c85907a416d',\n 'c76bf036-02cc-11ee-9446-8c85907a416d',\n 'c76bf068-02cc-11ee-9446-8c85907a416d',\n 'c76bf090-02cc-11ee-9446-8c85907a416d',\n 'c76bf0c2-02cc-11ee-9446-8c85907a416d',\n 'c76bf0f4-02cc-11ee-9446-8c85907a416d',\n 'c76bf11c-02cc-11ee-9446-8c85907a416d',\n 'c76bf14e-02cc-11ee-9446-8c85907a416d',\n 'c76bf180-02cc-11ee-9446-8c85907a416d',\n 'c76bf1a8-02cc-11ee-9446-8c85907a416d',\n 'c76bf1da-02cc-11ee-9446-8c85907a416d',\n 'c76bf20c-02cc-11ee-9446-8c85907a416d',\n 'c76bf234-02cc-11ee-9446-8c85907a416d',\n 'c76bf266-02cc-11ee-9446-8c85907a416d',\n 'c76bf298-02cc-11ee-9446-8c85907a416d',\n 'c76bf2ca-02cc-11ee-9446-8c85907a416d',\n 'c76bf2f2-02cc-11ee-9446-8c85907a416d',\n 'c76bf324-02cc-11ee-9446-8c85907a416d',\n 'c76bf356-02cc-11ee-9446-8c85907a416d',\n 'c76bf37e-02cc-11ee-9446-8c85907a416d',\n 'c76bf3b0-02cc-11ee-9446-8c85907a416d',\n 'c76bf3e2-02cc-11ee-9446-8c85907a416d',\n 'c76bf414-02cc-11ee-9446-8c85907a416d',\n 'c76bf43c-02cc-11ee-9446-8c85907a416d',\n 'c76bf46e-02cc-11ee-9446-8c85907a416d',\n 'c76bf4a0-02cc-11ee-9446-8c85907a416d',\n 'c76bf4c8-02cc-11ee-9446-8c85907a416d',\n 'c76bf4fa-02cc-11ee-9446-8c85907a416d',\n 'c76bf52c-02cc-11ee-9446-8c85907a416d',\n 'c76bf55e-02cc-11ee-9446-8c85907a416d',\n 'c76bf5a4-02cc-11ee-9446-8c85907a416d',\n 'c76bf5d6-02cc-11ee-9446-8c85907a416d',\n 'c76bf608-02cc-11ee-9446-8c85907a416d',\n 'c76bf630-02cc-11ee-9446-8c85907a416d',\n 'c76bf66c-02cc-11ee-9446-8c85907a416d',\n 'c76bf69e-02cc-11ee-9446-8c85907a416d',\n 'c76bf6c6-02cc-11ee-9446-8c85907a416d',\n 'c76bf6f8-02cc-11ee-9446-8c85907a416d',\n 'c76bf720-02cc-11ee-9446-8c85907a416d',\n 'c76bf752-02cc-11ee-9446-8c85907a416d',\n 'c76bf784-02cc-11ee-9446-8c85907a416d',\n 'c76bf7ac-02cc-11ee-9446-8c85907a416d',\n 'c76bf7de-02cc-11ee-9446-8c85907a416d',\n 'c76bf810-02cc-11ee-9446-8c85907a416d',\n 'c76bf838-02cc-11ee-9446-8c85907a416d',\n 'c76bf86a-02cc-11ee-9446-8c85907a416d',\n 'c76bf89c-02cc-11ee-9446-8c85907a416d',\n 'c76bf8c4-02cc-11ee-9446-8c85907a416d',\n 'c76bf8f6-02cc-11ee-9446-8c85907a416d',\n 'c76bf928-02cc-11ee-9446-8c85907a416d',\n 'c76bf950-02cc-11ee-9446-8c85907a416d',\n 'c76bf982-02cc-11ee-9446-8c85907a416d',\n 'c76bf9aa-02cc-11ee-9446-8c85907a416d',\n 'c76bf9dc-02cc-11ee-9446-8c85907a416d',\n 'c76bfa0e-02cc-11ee-9446-8c85907a416d',\n 'c76bfa36-02cc-11ee-9446-8c85907a416d',\n 'c76bfa68-02cc-11ee-9446-8c85907a416d',\n 'c76bfa9a-02cc-11ee-9446-8c85907a416d',\n 'c76bfac2-02cc-11ee-9446-8c85907a416d',\n 'c76bfaf4-02cc-11ee-9446-8c85907a416d',\n 'c76bfb26-02cc-11ee-9446-8c85907a416d',\n 'c76bfb4e-02cc-11ee-9446-8c85907a416d',\n 'c76bfb80-02cc-11ee-9446-8c85907a416d',\n 'c76bfba8-02cc-11ee-9446-8c85907a416d',\n 'c76bfbda-02cc-11ee-9446-8c85907a416d',\n 'c76bfc0c-02cc-11ee-9446-8c85907a416d',\n 'c76bfc34-02cc-11ee-9446-8c85907a416d',\n 'c76bfc66-02cc-11ee-9446-8c85907a416d',\n 'c76bfc98-02cc-11ee-9446-8c85907a416d',\n 'c76bfcc0-02cc-11ee-9446-8c85907a416d',\n 'c76bfcf2-02cc-11ee-9446-8c85907a416d',\n 'c76bfd24-02cc-11ee-9446-8c85907a416d',\n 'c76bfd6a-02cc-11ee-9446-8c85907a416d',\n 'c76bfd9c-02cc-11ee-9446-8c85907a416d',\n 'c76bfdce-02cc-11ee-9446-8c85907a416d',\n 'c76bfe00-02cc-11ee-9446-8c85907a416d',\n 'c76bfe28-02cc-11ee-9446-8c85907a416d',\n 'c76bfe5a-02cc-11ee-9446-8c85907a416d',\n 'c76bfe8c-02cc-11ee-9446-8c85907a416d']"
     },
     "execution_count": 11,
     "metadata": {},
     "output_type": "execute_result"
    }
   ],
   "source": [
    "username = \"hansenchen\" # replace with your username from app.activeloop.ai\n",
    "dataset_name = \"GPTeam\" # replace with your dataset name\n",
    "db = DeepLake(dataset_path=f\"hub://{username}/{dataset_name}\", embedding_function=embeddings, public=True) #dataset would be publicly available\n",
    "db.add_documents(texts)"
   ]
  },
  {
   "cell_type": "markdown",
   "metadata": {},
   "source": [
    "### 2. Question Answering on GPTeam codebase\n",
    "First load the dataset, construct the retriever, then construct the Conversational Chain"
   ]
  },
  {
   "cell_type": "code",
   "execution_count": 12,
   "metadata": {
    "ExecuteTime": {
     "end_time": "2023-06-04T11:43:25.331615Z",
     "start_time": "2023-06-04T11:43:09.069273Z"
    }
   },
   "outputs": [
    {
     "name": "stderr",
     "output_type": "stream",
     "text": [
      " \r"
     ]
    },
    {
     "name": "stdout",
     "output_type": "stream",
     "text": [
      "This dataset can be visualized in Jupyter Notebook by ds.visualize() or at https://app.activeloop.ai/hansenchen/GPTeam\n",
      "\n"
     ]
    },
    {
     "name": "stderr",
     "output_type": "stream",
     "text": [
      "\\"
     ]
    },
    {
     "name": "stdout",
     "output_type": "stream",
     "text": [
      "hub://hansenchen/GPTeam loaded successfully.\n",
      "\n"
     ]
    },
    {
     "name": "stderr",
     "output_type": "stream",
     "text": [
      " \r"
     ]
    },
    {
     "name": "stdout",
     "output_type": "stream",
     "text": [
      "Deep Lake Dataset in hub://hansenchen/GPTeam already exists, loading from the storage\n",
      "Dataset(path='hub://hansenchen/GPTeam', read_only=True, tensors=['embedding', 'ids', 'metadata', 'text'])\n",
      "\n",
      "  tensor     htype      shape      dtype  compression\n",
      "  -------   -------    -------    -------  ------- \n",
      " embedding  generic  (451, 1536)  float32   None   \n",
      "    ids      text     (451, 1)      str     None   \n",
      " metadata    json     (451, 1)      str     None   \n",
      "   text      text     (451, 1)      str     None   \n"
     ]
    }
   ],
   "source": [
    "db = DeepLake(dataset_path=\"hub://hansenchen/GPTeam\", read_only=True, embedding_function=embeddings) # replace dataset_path with the link you specified in the previous cell"
   ]
  },
  {
   "cell_type": "code",
   "execution_count": 13,
   "metadata": {
    "ExecuteTime": {
     "end_time": "2023-06-04T11:43:44.921509Z",
     "start_time": "2023-06-04T11:43:44.906232Z"
    }
   },
   "outputs": [],
   "source": [
    "retriever = db.as_retriever()\n",
    "retriever.search_kwargs['distance_metric'] = 'cos'\n",
    "retriever.search_kwargs['fetch_k'] = 100\n",
    "retriever.search_kwargs['maximal_marginal_relevance'] = True\n",
    "retriever.search_kwargs['k'] = 10"
   ]
  },
  {
   "cell_type": "markdown",
   "metadata": {},
   "source": [
    "You can also specify user defined functions using [Deep Lake filters](https://docs.deeplake.ai/en/latest/deeplake.core.dataset.html#deeplake.core.dataset.Dataset.filter)"
   ]
  },
  {
   "cell_type": "code",
   "execution_count": 14,
   "metadata": {
    "ExecuteTime": {
     "end_time": "2023-06-04T11:43:59.499363Z",
     "start_time": "2023-06-04T11:43:59.486843Z"
    }
   },
   "outputs": [
    {
     "data": {
      "text/plain": "\"\\ndef filter(x):\\n    # filter based on source code\\n    if 'com.google' in x['text'].data()['value']:\\n        return False\\n    \\n    # filter based on path e.g. extension\\n    metadata =  x['metadata'].data()['value']\\n    return 'scala' in metadata['source'] or 'py' in metadata['source']\\n\""
     },
     "execution_count": 14,
     "metadata": {},
     "output_type": "execute_result"
    }
   ],
   "source": [
    "\"\"\"\n",
    "def filter(x):\n",
    "    # filter based on source code\n",
    "    if 'com.google' in x['text'].data()['value']:\n",
    "        return False\n",
    "    \n",
    "    # filter based on path e.g. extension\n",
    "    metadata =  x['metadata'].data()['value']\n",
    "    return 'scala' in metadata['source'] or 'py' in metadata['source']\n",
    "\"\"\"\n",
    "### turn on below for custom filtering\n",
    "# retriever.search_kwargs['filter'] = filter"
   ]
  },
  {
   "cell_type": "code",
   "execution_count": 15,
   "metadata": {
    "ExecuteTime": {
     "end_time": "2023-06-04T11:44:05.189706Z",
     "start_time": "2023-06-04T11:44:05.168877Z"
    }
   },
   "outputs": [],
   "source": [
    "from langchain.chat_models import ChatOpenAI\n",
    "from langchain.chains import ConversationalRetrievalChain\n",
    "\n",
    "model = ChatOpenAI(model_name='gpt-3.5-turbo') # may switch to 'gpt-4'\n",
    "qa = ConversationalRetrievalChain.from_llm(model,retriever=retriever)"
   ]
  },
  {
   "cell_type": "code",
   "execution_count": 17,
   "metadata": {
    "ExecuteTime": {
     "end_time": "2023-06-04T11:50:10.935002Z",
     "start_time": "2023-06-04T11:49:27.408606Z"
    }
   },
   "outputs": [
    {
     "name": "stdout",
     "output_type": "stream",
     "text": [
      "-> **Question**: Can you walk me through the process from starting the world to the end by variable stop_condition? You need to specify the important functions and variable used for each steps. \n",
      "\n",
      "**Answer**: Sure, here is a high-level overview of the process from starting the world to the end by variable stop_condition, along with the important functions and variables used for each step:\n",
      "\n",
      "1. Clone the project repository to your local machine.\n",
      "2. Move to the repository: `cd gpteam`.\n",
      "3. Run `python setup.py` to check your environment setup and configure it as needed.\n",
      "4. Update the environment variables in `.env` with your API Keys.\n",
      "5. Launch the world by running `poetry run world`.\n",
      "\n",
      "Once the world is running, the agents will be moving around the world and performing tasks in different locations, depending on what they are doing and where other agents are located. They can speak to each other and collaborate on tasks, working in parallel towards common goals.\n",
      "\n",
      "To end the world based on the stop_condition variable, the world will continuously check if the current time has exceeded the stop_condition for each agent and task. If it has, then the agent will stop performing the task and move on to the next one. \n",
      "\n",
      "Here are the important functions and variables used for each step:\n",
      "\n",
      "1. `git clone <repository>` to clone the project repository to your local machine.\n",
      "2. `cd gpteam` to move to the repository.\n",
      "3. `python setup.py` to check your environment setup and configure it as needed. This function checks and installs all the necessary dependencies and makes sure you have all the required environment variables set up. \n",
      "4. Update the environment variables in `.env` with your API Keys. This file contains all the required environment variables for the project, including the OpenAI API key, which is necessary for the agents to communicate with each other and accomplish their tasks.\n",
      "5. `poetry run world` to launch the world. This function starts the main loop for the world and runs it until it is stopped by the user or by the stop_condition variable.\n",
      "\n",
      "During the world running process, the following important functions and variables are used:\n",
      "\n",
      "- `make_plan_prompt(self)` function generates a prompt for the agents to create new plans based on new information.\n",
      "- `run()` function starts the Discord listener, the world, and the server processes.\n",
      "- `run_world()` function runs the world in a separate event loop.\n",
      "- `run_server()` function runs the Flask server.\n",
      "- `run_in_new_loop(coro)` function runs the given coroutine in a new event loop.\n",
      "- `process_discord`, `process_world`, and `process_server` variables store the Discord listener, world, and server processes, respectively.\n",
      "- `EXECUTE_PLAN` variable stores a prompt for the agents to execute a task based on the provided context and tools.\n",
      "- `get_format_instructions(self)` function generates instructions for the agents on how to format their responses.\n",
      "- `agent_scratchpad` variable stores the current state of the agent's scratchpad. \n",
      "\n",
      "-> **Question**: Can you walk me through the workflow of an agent? You need to specify the important functions and variable used for each steps \n",
      "\n",
      "**Answer**: I'm sorry, I cannot provide an answer without more specific context. Could you please provide more information or clarify which agent you are referring to? \n",
      "\n"
     ]
    }
   ],
   "source": [
    "questions = [\n",
    "    \"Can you walk me through the process from starting the world to the end by variable stop_condition? You need to specify the important functions and variables used for each steps.\",\n",
    "    \"Can you walk me through the workflow of an agent? You need to specify the important functions and variables used for each steps\"\n",
    "] \n",
    "chat_history = []\n",
    "\n",
    "for question in questions:  \n",
    "    result = qa({\"question\": question, \"chat_history\": chat_history})\n",
    "    chat_history.append((question, result['answer']))\n",
    "    print(f\"-> **Question**: {question} \\n\")\n",
    "    print(f\"**Answer**: {result['answer']} \\n\")\n"
   ]
  },
  {
   "cell_type": "markdown",
   "metadata": {},
   "source": []
  }
 ],
 "metadata": {
  "kernelspec": {
   "display_name": "Python 3 (ipykernel)",
   "language": "python",
   "name": "python3"
  },
  "language_info": {
   "codemirror_mode": {
    "name": "ipython",
    "version": 3
   },
   "file_extension": ".py",
   "mimetype": "text/x-python",
   "name": "python",
   "nbconvert_exporter": "python",
   "pygments_lexer": "ipython3",
   "version": "3.10.0"
  }
 },
 "nbformat": 4,
 "nbformat_minor": 2
}
